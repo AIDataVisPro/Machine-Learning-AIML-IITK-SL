{
  "cells": [
    {
      "cell_type": "markdown",
      "metadata": {
        "id": "view-in-github",
        "colab_type": "text"
      },
      "source": [
        "<a href=\"https://colab.research.google.com/github/AIDataVisPro/Machine-Learning-AIML-IITK-SL/blob/main/Cluster_start_KMEAN_and_Distance_Calculation_(2).ipynb\" target=\"_parent\"><img src=\"https://colab.research.google.com/assets/colab-badge.svg\" alt=\"Open In Colab\"/></a>"
      ]
    },
    {
      "cell_type": "markdown",
      "id": "architectural-protection",
      "metadata": {
        "id": "architectural-protection"
      },
      "source": [
        "# Clustering in Machine learning\n",
        "* Clustering or cluster analysis is an unsupervised learning problem.\n",
        "* It is often used as a data analysis technique for discovering interesting and similer patterns in data.\n",
        "* Clustering is the task of dividing the population or data points into a number of groups as per there similarities.\n",
        "\n",
        "![image.png](attachment:image.png)\n",
        "\n",
        "![image-2.png](attachment:image-2.png)"
      ]
    },
    {
      "cell_type": "markdown",
      "id": "meaning-trance",
      "metadata": {
        "id": "meaning-trance"
      },
      "source": [
        "# Unsupervies Learning\n"
      ]
    },
    {
      "cell_type": "markdown",
      "id": "overhead-commonwealth",
      "metadata": {
        "id": "overhead-commonwealth"
      },
      "source": [
        "#####  Unsupervised learning is a type of machine learning algorithm used to draw inferences from datasets consisting of input data without labeled data.\n",
        "Clustering is an unsupervised machine learning task that automatically divides the data into clusters, or groups of similar items. Clustering is guided by the principle that items inside a cluster should be very similar to each other, but very different from those outside."
      ]
    },
    {
      "cell_type": "markdown",
      "id": "marine-alberta",
      "metadata": {
        "id": "marine-alberta"
      },
      "source": [
        "# Kmeans\n",
        "\n",
        "STEPS:\n",
        "\n",
        "* 1.Select some classes or groups and randomly initialize the center points.\n",
        "    * Remember that it is crucial to determine the number of classes you use. Therefore, take a good look at the available data and identify distinct characteristics.\n",
        "    \n",
        "* 2.You classify each data point by calculating the distance between the particular points and each group center.\n",
        "\n",
        "* 3.The next step is to classify the point that belong to the group whose center is the nearest to it.\n",
        "\n",
        "* 4.Based on this information, take out the mean of all the vectors in the particular group and recalculate the group center.\n",
        "\n",
        "### $Now$\n",
        "##### Repeat the procedure for a number and ensure that the group centers do not vary much between iterations.\n",
        "\n",
        "#### $Now-pro-and-cons$\n",
        "###### Pros\n",
        "K-means is a fast method because it does not have many computations.\n",
        "###### Cons\n",
        "Identifying and classifying the groups can be a challenging aspect.\n",
        "As it starts with a random choice of cluster centers, therefore, the results can lack consistency."
      ]
    },
    {
      "cell_type": "markdown",
      "id": "consecutive-harmony",
      "metadata": {
        "id": "consecutive-harmony"
      },
      "source": [
        "\n",
        "Method name : K-Means\n",
        "\n",
        "Parameters: number of clusters\n",
        "\n",
        "Scalability:Very large n_samples, medium n_clusters with MiniBatch code\n",
        "\n",
        "Usecase: General-purpose, even cluster size, flat geometry, not too many clusters\n",
        "\n",
        "Geometry (metric used): Distances between points"
      ]
    },
    {
      "cell_type": "markdown",
      "id": "instructional-employment",
      "metadata": {
        "id": "instructional-employment"
      },
      "source": [
        "###  Euclidean distance\n",
        "The Euclidean distance between two points in either the plane or 3-dimensional space measures the length of a segment connecting the two points. It is the most obvious way of representing distance between two points.\n",
        "\n",
        "![image.png](attachment:image.png)\n",
        "\n",
        "![image-2.png](attachment:image-2.png)"
      ]
    },
    {
      "cell_type": "markdown",
      "id": "celtic-august",
      "metadata": {
        "id": "celtic-august"
      },
      "source": [
        "# Manhattan distance\n",
        "The Manhattan distance, also called the Taxicab distance or the City Block distance, calculates the distance between two real-valued vectors.\n",
        "\n",
        "![image.png](attachment:image.png)"
      ]
    },
    {
      "cell_type": "markdown",
      "id": "developing-motor",
      "metadata": {
        "id": "developing-motor"
      },
      "source": [
        "![image-3.png](attachment:image-3.png)\n",
        "\n",
        "![image.png](attachment:image.png)\n",
        "\n",
        "![image-2.png](attachment:image-2.png)"
      ]
    },
    {
      "cell_type": "code",
      "execution_count": null,
      "id": "loved-cheese",
      "metadata": {
        "id": "loved-cheese"
      },
      "outputs": [],
      "source": []
    },
    {
      "cell_type": "code",
      "execution_count": null,
      "id": "qualified-pregnancy",
      "metadata": {
        "id": "qualified-pregnancy"
      },
      "outputs": [],
      "source": []
    },
    {
      "cell_type": "code",
      "execution_count": null,
      "id": "serious-healthcare",
      "metadata": {
        "id": "serious-healthcare"
      },
      "outputs": [],
      "source": []
    },
    {
      "cell_type": "markdown",
      "id": "interim-special",
      "metadata": {
        "id": "interim-special"
      },
      "source": [
        "### from sklearn.cluster import k_means,KMeans\n"
      ]
    },
    {
      "cell_type": "code",
      "execution_count": null,
      "id": "ceramic-exercise",
      "metadata": {
        "id": "ceramic-exercise"
      },
      "outputs": [],
      "source": []
    },
    {
      "cell_type": "code",
      "execution_count": null,
      "id": "documentary-increase",
      "metadata": {
        "id": "documentary-increase"
      },
      "outputs": [],
      "source": [
        "from sklearn.datasets import make_blobs  # make cluster data or unlabel data for u\n",
        "from sklearn.cluster import KMeans\n",
        "import matplotlib.pyplot as plt\n",
        "import seaborn as sns"
      ]
    },
    {
      "cell_type": "code",
      "execution_count": null,
      "id": "hearing-payment",
      "metadata": {
        "scrolled": true,
        "id": "hearing-payment"
      },
      "outputs": [],
      "source": [
        "x,y=make_blobs(centers=3,n_samples=30)"
      ]
    },
    {
      "cell_type": "code",
      "execution_count": null,
      "id": "mathematical-belfast",
      "metadata": {
        "id": "mathematical-belfast"
      },
      "outputs": [],
      "source": [
        "#?make_blobs"
      ]
    },
    {
      "cell_type": "code",
      "execution_count": null,
      "id": "written-salem",
      "metadata": {
        "scrolled": true,
        "id": "written-salem",
        "outputId": "435f5e2b-4c21-45df-ad0f-4f63ae99910e"
      },
      "outputs": [
        {
          "data": {
            "text/plain": [
              "array([[ 7.16261404,  5.76264961],\n",
              "       [ 4.22745538, -5.71658415],\n",
              "       [ 8.97800913, -1.7957982 ],\n",
              "       [ 8.78337828, -1.58697838],\n",
              "       [ 3.1978336 , -5.60811485],\n",
              "       [ 1.95779817, -5.26023622],\n",
              "       [ 4.34871214, -5.45027046],\n",
              "       [ 8.55304635, -0.64252347],\n",
              "       [ 7.01081017,  4.5349301 ],\n",
              "       [ 8.52828151,  4.49167873],\n",
              "       [ 3.16825252, -5.89300632],\n",
              "       [ 2.86367187, -6.08318169],\n",
              "       [ 8.70741693,  5.3623673 ],\n",
              "       [ 3.50529131, -7.17984032],\n",
              "       [ 8.18914749, -0.75119385],\n",
              "       [ 7.18569494, -1.58962457],\n",
              "       [ 7.85634965, -1.03569017],\n",
              "       [ 5.64680624,  5.74844077],\n",
              "       [ 7.07832528,  4.86448972],\n",
              "       [ 6.25006417,  0.1297333 ],\n",
              "       [ 6.42349875, -1.77996824],\n",
              "       [ 7.07761569,  3.37400489],\n",
              "       [ 6.59426633,  5.89990336],\n",
              "       [ 3.97917645, -6.06699253],\n",
              "       [ 6.11917768, -1.3378682 ],\n",
              "       [ 8.05854452,  5.84541801],\n",
              "       [ 8.08087598, -1.48819153],\n",
              "       [ 6.15228337,  4.81077119],\n",
              "       [ 3.68240099, -7.11934991],\n",
              "       [ 1.54021006, -6.01404727]])"
            ]
          },
          "execution_count": 18,
          "metadata": {},
          "output_type": "execute_result"
        }
      ],
      "source": [
        "x"
      ]
    },
    {
      "cell_type": "code",
      "execution_count": null,
      "id": "outer-fusion",
      "metadata": {
        "id": "outer-fusion",
        "outputId": "abb42589-6c53-45ba-d128-7322ff62a39f"
      },
      "outputs": [
        {
          "data": {
            "text/plain": [
              "array([1, 2, 0, 0, 2, 2, 2, 0, 1, 1, 2, 2, 1, 2, 0, 0, 0, 1, 1, 0, 0, 1,\n",
              "       1, 2, 0, 1, 0, 1, 2, 2])"
            ]
          },
          "execution_count": 19,
          "metadata": {},
          "output_type": "execute_result"
        }
      ],
      "source": [
        "y"
      ]
    },
    {
      "cell_type": "code",
      "execution_count": null,
      "id": "improved-jacob",
      "metadata": {
        "id": "improved-jacob"
      },
      "outputs": [],
      "source": [
        "#? KMeans"
      ]
    },
    {
      "cell_type": "code",
      "execution_count": null,
      "id": "marine-optimum",
      "metadata": {
        "id": "marine-optimum"
      },
      "outputs": [],
      "source": [
        "km=KMeans(n_clusters=3)"
      ]
    },
    {
      "cell_type": "code",
      "execution_count": null,
      "id": "political-genome",
      "metadata": {
        "id": "political-genome",
        "outputId": "ed724296-04e1-47a0-fbcd-13bbe646d2d1"
      },
      "outputs": [
        {
          "name": "stderr",
          "output_type": "stream",
          "text": [
            "D:\\all_tool_install\\anaconda3\\envs\\llm\\Lib\\site-packages\\sklearn\\cluster\\_kmeans.py:1429: UserWarning: KMeans is known to have a memory leak on Windows with MKL, when there are less chunks than available threads. You can avoid it by setting the environment variable OMP_NUM_THREADS=1.\n",
            "  warnings.warn(\n"
          ]
        },
        {
          "data": {
            "text/html": [
              "<style>#sk-container-id-2 {\n",
              "  /* Definition of color scheme common for light and dark mode */\n",
              "  --sklearn-color-text: black;\n",
              "  --sklearn-color-line: gray;\n",
              "  /* Definition of color scheme for unfitted estimators */\n",
              "  --sklearn-color-unfitted-level-0: #fff5e6;\n",
              "  --sklearn-color-unfitted-level-1: #f6e4d2;\n",
              "  --sklearn-color-unfitted-level-2: #ffe0b3;\n",
              "  --sklearn-color-unfitted-level-3: chocolate;\n",
              "  /* Definition of color scheme for fitted estimators */\n",
              "  --sklearn-color-fitted-level-0: #f0f8ff;\n",
              "  --sklearn-color-fitted-level-1: #d4ebff;\n",
              "  --sklearn-color-fitted-level-2: #b3dbfd;\n",
              "  --sklearn-color-fitted-level-3: cornflowerblue;\n",
              "\n",
              "  /* Specific color for light theme */\n",
              "  --sklearn-color-text-on-default-background: var(--sg-text-color, var(--theme-code-foreground, var(--jp-content-font-color1, black)));\n",
              "  --sklearn-color-background: var(--sg-background-color, var(--theme-background, var(--jp-layout-color0, white)));\n",
              "  --sklearn-color-border-box: var(--sg-text-color, var(--theme-code-foreground, var(--jp-content-font-color1, black)));\n",
              "  --sklearn-color-icon: #696969;\n",
              "\n",
              "  @media (prefers-color-scheme: dark) {\n",
              "    /* Redefinition of color scheme for dark theme */\n",
              "    --sklearn-color-text-on-default-background: var(--sg-text-color, var(--theme-code-foreground, var(--jp-content-font-color1, white)));\n",
              "    --sklearn-color-background: var(--sg-background-color, var(--theme-background, var(--jp-layout-color0, #111)));\n",
              "    --sklearn-color-border-box: var(--sg-text-color, var(--theme-code-foreground, var(--jp-content-font-color1, white)));\n",
              "    --sklearn-color-icon: #878787;\n",
              "  }\n",
              "}\n",
              "\n",
              "#sk-container-id-2 {\n",
              "  color: var(--sklearn-color-text);\n",
              "}\n",
              "\n",
              "#sk-container-id-2 pre {\n",
              "  padding: 0;\n",
              "}\n",
              "\n",
              "#sk-container-id-2 input.sk-hidden--visually {\n",
              "  border: 0;\n",
              "  clip: rect(1px 1px 1px 1px);\n",
              "  clip: rect(1px, 1px, 1px, 1px);\n",
              "  height: 1px;\n",
              "  margin: -1px;\n",
              "  overflow: hidden;\n",
              "  padding: 0;\n",
              "  position: absolute;\n",
              "  width: 1px;\n",
              "}\n",
              "\n",
              "#sk-container-id-2 div.sk-dashed-wrapped {\n",
              "  border: 1px dashed var(--sklearn-color-line);\n",
              "  margin: 0 0.4em 0.5em 0.4em;\n",
              "  box-sizing: border-box;\n",
              "  padding-bottom: 0.4em;\n",
              "  background-color: var(--sklearn-color-background);\n",
              "}\n",
              "\n",
              "#sk-container-id-2 div.sk-container {\n",
              "  /* jupyter's `normalize.less` sets `[hidden] { display: none; }`\n",
              "     but bootstrap.min.css set `[hidden] { display: none !important; }`\n",
              "     so we also need the `!important` here to be able to override the\n",
              "     default hidden behavior on the sphinx rendered scikit-learn.org.\n",
              "     See: https://github.com/scikit-learn/scikit-learn/issues/21755 */\n",
              "  display: inline-block !important;\n",
              "  position: relative;\n",
              "}\n",
              "\n",
              "#sk-container-id-2 div.sk-text-repr-fallback {\n",
              "  display: none;\n",
              "}\n",
              "\n",
              "div.sk-parallel-item,\n",
              "div.sk-serial,\n",
              "div.sk-item {\n",
              "  /* draw centered vertical line to link estimators */\n",
              "  background-image: linear-gradient(var(--sklearn-color-text-on-default-background), var(--sklearn-color-text-on-default-background));\n",
              "  background-size: 2px 100%;\n",
              "  background-repeat: no-repeat;\n",
              "  background-position: center center;\n",
              "}\n",
              "\n",
              "/* Parallel-specific style estimator block */\n",
              "\n",
              "#sk-container-id-2 div.sk-parallel-item::after {\n",
              "  content: \"\";\n",
              "  width: 100%;\n",
              "  border-bottom: 2px solid var(--sklearn-color-text-on-default-background);\n",
              "  flex-grow: 1;\n",
              "}\n",
              "\n",
              "#sk-container-id-2 div.sk-parallel {\n",
              "  display: flex;\n",
              "  align-items: stretch;\n",
              "  justify-content: center;\n",
              "  background-color: var(--sklearn-color-background);\n",
              "  position: relative;\n",
              "}\n",
              "\n",
              "#sk-container-id-2 div.sk-parallel-item {\n",
              "  display: flex;\n",
              "  flex-direction: column;\n",
              "}\n",
              "\n",
              "#sk-container-id-2 div.sk-parallel-item:first-child::after {\n",
              "  align-self: flex-end;\n",
              "  width: 50%;\n",
              "}\n",
              "\n",
              "#sk-container-id-2 div.sk-parallel-item:last-child::after {\n",
              "  align-self: flex-start;\n",
              "  width: 50%;\n",
              "}\n",
              "\n",
              "#sk-container-id-2 div.sk-parallel-item:only-child::after {\n",
              "  width: 0;\n",
              "}\n",
              "\n",
              "/* Serial-specific style estimator block */\n",
              "\n",
              "#sk-container-id-2 div.sk-serial {\n",
              "  display: flex;\n",
              "  flex-direction: column;\n",
              "  align-items: center;\n",
              "  background-color: var(--sklearn-color-background);\n",
              "  padding-right: 1em;\n",
              "  padding-left: 1em;\n",
              "}\n",
              "\n",
              "\n",
              "/* Toggleable style: style used for estimator/Pipeline/ColumnTransformer box that is\n",
              "clickable and can be expanded/collapsed.\n",
              "- Pipeline and ColumnTransformer use this feature and define the default style\n",
              "- Estimators will overwrite some part of the style using the `sk-estimator` class\n",
              "*/\n",
              "\n",
              "/* Pipeline and ColumnTransformer style (default) */\n",
              "\n",
              "#sk-container-id-2 div.sk-toggleable {\n",
              "  /* Default theme specific background. It is overwritten whether we have a\n",
              "  specific estimator or a Pipeline/ColumnTransformer */\n",
              "  background-color: var(--sklearn-color-background);\n",
              "}\n",
              "\n",
              "/* Toggleable label */\n",
              "#sk-container-id-2 label.sk-toggleable__label {\n",
              "  cursor: pointer;\n",
              "  display: block;\n",
              "  width: 100%;\n",
              "  margin-bottom: 0;\n",
              "  padding: 0.5em;\n",
              "  box-sizing: border-box;\n",
              "  text-align: center;\n",
              "}\n",
              "\n",
              "#sk-container-id-2 label.sk-toggleable__label-arrow:before {\n",
              "  /* Arrow on the left of the label */\n",
              "  content: \"▸\";\n",
              "  float: left;\n",
              "  margin-right: 0.25em;\n",
              "  color: var(--sklearn-color-icon);\n",
              "}\n",
              "\n",
              "#sk-container-id-2 label.sk-toggleable__label-arrow:hover:before {\n",
              "  color: var(--sklearn-color-text);\n",
              "}\n",
              "\n",
              "/* Toggleable content - dropdown */\n",
              "\n",
              "#sk-container-id-2 div.sk-toggleable__content {\n",
              "  max-height: 0;\n",
              "  max-width: 0;\n",
              "  overflow: hidden;\n",
              "  text-align: left;\n",
              "  /* unfitted */\n",
              "  background-color: var(--sklearn-color-unfitted-level-0);\n",
              "}\n",
              "\n",
              "#sk-container-id-2 div.sk-toggleable__content.fitted {\n",
              "  /* fitted */\n",
              "  background-color: var(--sklearn-color-fitted-level-0);\n",
              "}\n",
              "\n",
              "#sk-container-id-2 div.sk-toggleable__content pre {\n",
              "  margin: 0.2em;\n",
              "  border-radius: 0.25em;\n",
              "  color: var(--sklearn-color-text);\n",
              "  /* unfitted */\n",
              "  background-color: var(--sklearn-color-unfitted-level-0);\n",
              "}\n",
              "\n",
              "#sk-container-id-2 div.sk-toggleable__content.fitted pre {\n",
              "  /* unfitted */\n",
              "  background-color: var(--sklearn-color-fitted-level-0);\n",
              "}\n",
              "\n",
              "#sk-container-id-2 input.sk-toggleable__control:checked~div.sk-toggleable__content {\n",
              "  /* Expand drop-down */\n",
              "  max-height: 200px;\n",
              "  max-width: 100%;\n",
              "  overflow: auto;\n",
              "}\n",
              "\n",
              "#sk-container-id-2 input.sk-toggleable__control:checked~label.sk-toggleable__label-arrow:before {\n",
              "  content: \"▾\";\n",
              "}\n",
              "\n",
              "/* Pipeline/ColumnTransformer-specific style */\n",
              "\n",
              "#sk-container-id-2 div.sk-label input.sk-toggleable__control:checked~label.sk-toggleable__label {\n",
              "  color: var(--sklearn-color-text);\n",
              "  background-color: var(--sklearn-color-unfitted-level-2);\n",
              "}\n",
              "\n",
              "#sk-container-id-2 div.sk-label.fitted input.sk-toggleable__control:checked~label.sk-toggleable__label {\n",
              "  background-color: var(--sklearn-color-fitted-level-2);\n",
              "}\n",
              "\n",
              "/* Estimator-specific style */\n",
              "\n",
              "/* Colorize estimator box */\n",
              "#sk-container-id-2 div.sk-estimator input.sk-toggleable__control:checked~label.sk-toggleable__label {\n",
              "  /* unfitted */\n",
              "  background-color: var(--sklearn-color-unfitted-level-2);\n",
              "}\n",
              "\n",
              "#sk-container-id-2 div.sk-estimator.fitted input.sk-toggleable__control:checked~label.sk-toggleable__label {\n",
              "  /* fitted */\n",
              "  background-color: var(--sklearn-color-fitted-level-2);\n",
              "}\n",
              "\n",
              "#sk-container-id-2 div.sk-label label.sk-toggleable__label,\n",
              "#sk-container-id-2 div.sk-label label {\n",
              "  /* The background is the default theme color */\n",
              "  color: var(--sklearn-color-text-on-default-background);\n",
              "}\n",
              "\n",
              "/* On hover, darken the color of the background */\n",
              "#sk-container-id-2 div.sk-label:hover label.sk-toggleable__label {\n",
              "  color: var(--sklearn-color-text);\n",
              "  background-color: var(--sklearn-color-unfitted-level-2);\n",
              "}\n",
              "\n",
              "/* Label box, darken color on hover, fitted */\n",
              "#sk-container-id-2 div.sk-label.fitted:hover label.sk-toggleable__label.fitted {\n",
              "  color: var(--sklearn-color-text);\n",
              "  background-color: var(--sklearn-color-fitted-level-2);\n",
              "}\n",
              "\n",
              "/* Estimator label */\n",
              "\n",
              "#sk-container-id-2 div.sk-label label {\n",
              "  font-family: monospace;\n",
              "  font-weight: bold;\n",
              "  display: inline-block;\n",
              "  line-height: 1.2em;\n",
              "}\n",
              "\n",
              "#sk-container-id-2 div.sk-label-container {\n",
              "  text-align: center;\n",
              "}\n",
              "\n",
              "/* Estimator-specific */\n",
              "#sk-container-id-2 div.sk-estimator {\n",
              "  font-family: monospace;\n",
              "  border: 1px dotted var(--sklearn-color-border-box);\n",
              "  border-radius: 0.25em;\n",
              "  box-sizing: border-box;\n",
              "  margin-bottom: 0.5em;\n",
              "  /* unfitted */\n",
              "  background-color: var(--sklearn-color-unfitted-level-0);\n",
              "}\n",
              "\n",
              "#sk-container-id-2 div.sk-estimator.fitted {\n",
              "  /* fitted */\n",
              "  background-color: var(--sklearn-color-fitted-level-0);\n",
              "}\n",
              "\n",
              "/* on hover */\n",
              "#sk-container-id-2 div.sk-estimator:hover {\n",
              "  /* unfitted */\n",
              "  background-color: var(--sklearn-color-unfitted-level-2);\n",
              "}\n",
              "\n",
              "#sk-container-id-2 div.sk-estimator.fitted:hover {\n",
              "  /* fitted */\n",
              "  background-color: var(--sklearn-color-fitted-level-2);\n",
              "}\n",
              "\n",
              "/* Specification for estimator info (e.g. \"i\" and \"?\") */\n",
              "\n",
              "/* Common style for \"i\" and \"?\" */\n",
              "\n",
              ".sk-estimator-doc-link,\n",
              "a:link.sk-estimator-doc-link,\n",
              "a:visited.sk-estimator-doc-link {\n",
              "  float: right;\n",
              "  font-size: smaller;\n",
              "  line-height: 1em;\n",
              "  font-family: monospace;\n",
              "  background-color: var(--sklearn-color-background);\n",
              "  border-radius: 1em;\n",
              "  height: 1em;\n",
              "  width: 1em;\n",
              "  text-decoration: none !important;\n",
              "  margin-left: 1ex;\n",
              "  /* unfitted */\n",
              "  border: var(--sklearn-color-unfitted-level-1) 1pt solid;\n",
              "  color: var(--sklearn-color-unfitted-level-1);\n",
              "}\n",
              "\n",
              ".sk-estimator-doc-link.fitted,\n",
              "a:link.sk-estimator-doc-link.fitted,\n",
              "a:visited.sk-estimator-doc-link.fitted {\n",
              "  /* fitted */\n",
              "  border: var(--sklearn-color-fitted-level-1) 1pt solid;\n",
              "  color: var(--sklearn-color-fitted-level-1);\n",
              "}\n",
              "\n",
              "/* On hover */\n",
              "div.sk-estimator:hover .sk-estimator-doc-link:hover,\n",
              ".sk-estimator-doc-link:hover,\n",
              "div.sk-label-container:hover .sk-estimator-doc-link:hover,\n",
              ".sk-estimator-doc-link:hover {\n",
              "  /* unfitted */\n",
              "  background-color: var(--sklearn-color-unfitted-level-3);\n",
              "  color: var(--sklearn-color-background);\n",
              "  text-decoration: none;\n",
              "}\n",
              "\n",
              "div.sk-estimator.fitted:hover .sk-estimator-doc-link.fitted:hover,\n",
              ".sk-estimator-doc-link.fitted:hover,\n",
              "div.sk-label-container:hover .sk-estimator-doc-link.fitted:hover,\n",
              ".sk-estimator-doc-link.fitted:hover {\n",
              "  /* fitted */\n",
              "  background-color: var(--sklearn-color-fitted-level-3);\n",
              "  color: var(--sklearn-color-background);\n",
              "  text-decoration: none;\n",
              "}\n",
              "\n",
              "/* Span, style for the box shown on hovering the info icon */\n",
              ".sk-estimator-doc-link span {\n",
              "  display: none;\n",
              "  z-index: 9999;\n",
              "  position: relative;\n",
              "  font-weight: normal;\n",
              "  right: .2ex;\n",
              "  padding: .5ex;\n",
              "  margin: .5ex;\n",
              "  width: min-content;\n",
              "  min-width: 20ex;\n",
              "  max-width: 50ex;\n",
              "  color: var(--sklearn-color-text);\n",
              "  box-shadow: 2pt 2pt 4pt #999;\n",
              "  /* unfitted */\n",
              "  background: var(--sklearn-color-unfitted-level-0);\n",
              "  border: .5pt solid var(--sklearn-color-unfitted-level-3);\n",
              "}\n",
              "\n",
              ".sk-estimator-doc-link.fitted span {\n",
              "  /* fitted */\n",
              "  background: var(--sklearn-color-fitted-level-0);\n",
              "  border: var(--sklearn-color-fitted-level-3);\n",
              "}\n",
              "\n",
              ".sk-estimator-doc-link:hover span {\n",
              "  display: block;\n",
              "}\n",
              "\n",
              "/* \"?\"-specific style due to the `<a>` HTML tag */\n",
              "\n",
              "#sk-container-id-2 a.estimator_doc_link {\n",
              "  float: right;\n",
              "  font-size: 1rem;\n",
              "  line-height: 1em;\n",
              "  font-family: monospace;\n",
              "  background-color: var(--sklearn-color-background);\n",
              "  border-radius: 1rem;\n",
              "  height: 1rem;\n",
              "  width: 1rem;\n",
              "  text-decoration: none;\n",
              "  /* unfitted */\n",
              "  color: var(--sklearn-color-unfitted-level-1);\n",
              "  border: var(--sklearn-color-unfitted-level-1) 1pt solid;\n",
              "}\n",
              "\n",
              "#sk-container-id-2 a.estimator_doc_link.fitted {\n",
              "  /* fitted */\n",
              "  border: var(--sklearn-color-fitted-level-1) 1pt solid;\n",
              "  color: var(--sklearn-color-fitted-level-1);\n",
              "}\n",
              "\n",
              "/* On hover */\n",
              "#sk-container-id-2 a.estimator_doc_link:hover {\n",
              "  /* unfitted */\n",
              "  background-color: var(--sklearn-color-unfitted-level-3);\n",
              "  color: var(--sklearn-color-background);\n",
              "  text-decoration: none;\n",
              "}\n",
              "\n",
              "#sk-container-id-2 a.estimator_doc_link.fitted:hover {\n",
              "  /* fitted */\n",
              "  background-color: var(--sklearn-color-fitted-level-3);\n",
              "}\n",
              "</style><div id=\"sk-container-id-2\" class=\"sk-top-container\"><div class=\"sk-text-repr-fallback\"><pre>KMeans(n_clusters=3)</pre><b>In a Jupyter environment, please rerun this cell to show the HTML representation or trust the notebook. <br />On GitHub, the HTML representation is unable to render, please try loading this page with nbviewer.org.</b></div><div class=\"sk-container\" hidden><div class=\"sk-item\"><div class=\"sk-estimator fitted sk-toggleable\"><input class=\"sk-toggleable__control sk-hidden--visually\" id=\"sk-estimator-id-2\" type=\"checkbox\" checked><label for=\"sk-estimator-id-2\" class=\"sk-toggleable__label fitted sk-toggleable__label-arrow fitted\">&nbsp;&nbsp;KMeans<a class=\"sk-estimator-doc-link fitted\" rel=\"noreferrer\" target=\"_blank\" href=\"https://scikit-learn.org/1.5/modules/generated/sklearn.cluster.KMeans.html\">?<span>Documentation for KMeans</span></a><span class=\"sk-estimator-doc-link fitted\">i<span>Fitted</span></span></label><div class=\"sk-toggleable__content fitted\"><pre>KMeans(n_clusters=3)</pre></div> </div></div></div></div>"
            ],
            "text/plain": [
              "KMeans(n_clusters=3)"
            ]
          },
          "execution_count": 22,
          "metadata": {},
          "output_type": "execute_result"
        }
      ],
      "source": [
        "km.fit(x)  # y is not used"
      ]
    },
    {
      "cell_type": "code",
      "execution_count": null,
      "id": "editorial-lindsay",
      "metadata": {
        "id": "editorial-lindsay",
        "outputId": "714f7766-3246-4cce-ae70-3ebe9aabbdab"
      },
      "outputs": [
        {
          "data": {
            "text/plain": [
              "array([[ 7.64192424, -1.18781033],\n",
              "       [ 7.20169641,  5.06946537],\n",
              "       [ 3.24708025, -6.03916237]])"
            ]
          },
          "execution_count": 23,
          "metadata": {},
          "output_type": "execute_result"
        }
      ],
      "source": [
        "km.cluster_centers_    # Final Anaswer"
      ]
    },
    {
      "cell_type": "code",
      "execution_count": null,
      "id": "matched-driving",
      "metadata": {
        "id": "matched-driving",
        "outputId": "b421c8f0-de0d-4dc1-f064-17802c337cdc"
      },
      "outputs": [
        {
          "data": {
            "text/plain": [
              "array([7.64192424, 7.20169641, 3.24708025])"
            ]
          },
          "execution_count": 24,
          "metadata": {},
          "output_type": "execute_result"
        }
      ],
      "source": [
        "km.cluster_centers_[:,0]"
      ]
    },
    {
      "cell_type": "code",
      "execution_count": null,
      "id": "597d1226-89e3-4fca-b465-1eeabc2692a2",
      "metadata": {
        "id": "597d1226-89e3-4fca-b465-1eeabc2692a2"
      },
      "outputs": [],
      "source": []
    },
    {
      "cell_type": "code",
      "execution_count": null,
      "id": "cooperative-cooling",
      "metadata": {
        "id": "cooperative-cooling",
        "outputId": "a54343bf-365e-4a1d-9c38-422db6ac7834"
      },
      "outputs": [
        {
          "data": {
            "text/plain": [
              "<matplotlib.collections.PathCollection at 0x24162568fe0>"
            ]
          },
          "execution_count": 26,
          "metadata": {},
          "output_type": "execute_result"
        },
        {
          "data": {
            "image/png": "[encoded data removed]",
            "text/plain": [
              "<Figure size 640x480 with 1 Axes>"
            ]
          },
          "metadata": {},
          "output_type": "display_data"
        }
      ],
      "source": [
        "plt.scatter(x[ : , 0], x[ : , 1],marker='*', s =150, c=\"b\",alpha=.5)"
      ]
    },
    {
      "cell_type": "code",
      "execution_count": null,
      "id": "korean-prospect",
      "metadata": {
        "id": "korean-prospect",
        "outputId": "2315b302-b2a2-4533-805a-bca2dd94981b"
      },
      "outputs": [
        {
          "data": {
            "text/plain": [
              "<matplotlib.collections.PathCollection at 0x24162dbadb0>"
            ]
          },
          "execution_count": 29,
          "metadata": {},
          "output_type": "execute_result"
        },
        {
          "data": {
            "image/png": "[encoded data removed]",
            "text/plain": [
              "<Figure size 640x480 with 1 Axes>"
            ]
          },
          "metadata": {},
          "output_type": "display_data"
        }
      ],
      "source": [
        "plt.scatter(km.cluster_centers_[:,0],km.cluster_centers_[:,1],marker='^',s=150)"
      ]
    },
    {
      "cell_type": "code",
      "execution_count": null,
      "id": "restricted-match",
      "metadata": {
        "id": "restricted-match",
        "outputId": "598b589d-0b36-4c75-e646-5b1ed03a2603"
      },
      "outputs": [
        {
          "data": {
            "text/plain": [
              "<matplotlib.collections.PathCollection at 0x24163f69970>"
            ]
          },
          "execution_count": 31,
          "metadata": {},
          "output_type": "execute_result"
        },
        {
          "data": {
            "image/png": "[encoded data removed]",
            "text/plain": [
              "<Figure size 640x480 with 1 Axes>"
            ]
          },
          "metadata": {},
          "output_type": "display_data"
        }
      ],
      "source": [
        "plt.scatter(x[ : , 0], x[ : , 1],marker='*', s =50, c=\"b\")\n",
        "plt.scatter(km.cluster_centers_[:,0],\n",
        "            km.cluster_centers_[:,1],\n",
        "            marker='*',\n",
        "            s=400,\n",
        "            alpha=0.4,\n",
        "            c='r')"
      ]
    },
    {
      "cell_type": "markdown",
      "id": "ee3da37a-ce5f-4d2b-97e6-13ca2e0cd3c7",
      "metadata": {
        "id": "ee3da37a-ce5f-4d2b-97e6-13ca2e0cd3c7"
      },
      "source": [
        "#### Compairing to the real Y points"
      ]
    },
    {
      "cell_type": "code",
      "execution_count": null,
      "id": "a9ede514",
      "metadata": {
        "id": "a9ede514",
        "outputId": "6b09a495-bdd9-424e-82af-4b95f4908a8b"
      },
      "outputs": [
        {
          "data": {
            "text/plain": [
              "<matplotlib.collections.PathCollection at 0x2416db3aa20>"
            ]
          },
          "execution_count": 37,
          "metadata": {},
          "output_type": "execute_result"
        },
        {
          "data": {
            "image/png": "[encoded data removed]",
            "text/plain": [
              "<Figure size 640x480 with 1 Axes>"
            ]
          },
          "metadata": {},
          "output_type": "display_data"
        }
      ],
      "source": [
        "sns.scatterplot(x=x[ : , 0], y=x[ : , 1],marker='*', s =200,hue=y,palette=\"Dark2\")\n",
        "plt.scatter(km.cluster_centers_[:,0],\n",
        "            km.cluster_centers_[:,1],\n",
        "            marker='^',\n",
        "            s=100,\n",
        "            alpha=0.4,\n",
        "            c='r')"
      ]
    },
    {
      "cell_type": "markdown",
      "id": "regional-registrar",
      "metadata": {
        "id": "regional-registrar"
      },
      "source": [
        "# END"
      ]
    },
    {
      "cell_type": "markdown",
      "id": "democratic-separate",
      "metadata": {
        "id": "democratic-separate"
      },
      "source": [
        "# Elbow Method for K value"
      ]
    },
    {
      "cell_type": "markdown",
      "id": "24792f79",
      "metadata": {
        "id": "24792f79"
      },
      "source": [
        "Silhouette Method- is also there for the same"
      ]
    },
    {
      "cell_type": "code",
      "execution_count": null,
      "id": "nutritional-atlantic",
      "metadata": {
        "scrolled": true,
        "id": "nutritional-atlantic"
      },
      "outputs": [],
      "source": [
        "values=[]\n",
        "for k in range(2,20):\n",
        "    km=KMeans(n_clusters=k)\n",
        "    km.fit(x)\n",
        "    values.append(km.inertia_)"
      ]
    },
    {
      "cell_type": "code",
      "execution_count": null,
      "id": "innovative-sixth",
      "metadata": {
        "id": "innovative-sixth"
      },
      "outputs": [],
      "source": [
        "km.inertia_  # inertia is distance MSE- between records and centroid"
      ]
    },
    {
      "cell_type": "code",
      "execution_count": null,
      "id": "increased-party",
      "metadata": {
        "scrolled": true,
        "id": "increased-party"
      },
      "outputs": [],
      "source": [
        "values"
      ]
    },
    {
      "cell_type": "code",
      "execution_count": null,
      "id": "neither-driving",
      "metadata": {
        "id": "neither-driving"
      },
      "outputs": [],
      "source": [
        "import matplotlib.pyplot as plt"
      ]
    },
    {
      "cell_type": "code",
      "execution_count": null,
      "id": "understanding-cutting",
      "metadata": {
        "id": "understanding-cutting"
      },
      "outputs": [],
      "source": [
        "plt.figure(figsize=(10,5))\n",
        "plt.plot(values)\n",
        "plt.xlabel(\"Number Of Cluster\")\n",
        "plt.ylabel(\"Inertia\")\n",
        "plt.title(\"Elbow Method\")\n",
        "plt.xlim(0,21)\n",
        "plt.show()"
      ]
    },
    {
      "cell_type": "code",
      "execution_count": null,
      "id": "36590f67",
      "metadata": {
        "id": "36590f67"
      },
      "outputs": [],
      "source": []
    }
  ],
  "metadata": {
    "kernelspec": {
      "display_name": "Python 3 (ipykernel)",
      "language": "python",
      "name": "python3"
    },
    "language_info": {
      "codemirror_mode": {
        "name": "ipython",
        "version": 3
      },
      "file_extension": ".py",
      "mimetype": "text/x-python",
      "name": "python",
      "nbconvert_exporter": "python",
      "pygments_lexer": "ipython3",
      "version": "3.12.3"
    },
    "colab": {
      "provenance": [],
      "include_colab_link": true
    }
  },
  "nbformat": 4,
  "nbformat_minor": 5
}